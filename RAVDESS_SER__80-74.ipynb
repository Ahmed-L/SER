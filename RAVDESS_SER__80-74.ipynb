{
  "nbformat": 4,
  "nbformat_minor": 0,
  "metadata": {
    "colab": {
      "name": "RAVDESS_SER.ipynb",
      "provenance": [],
      "include_colab_link": true
    },
    "kernelspec": {
      "name": "python3",
      "display_name": "Python 3"
    },
    "language_info": {
      "name": "python"
    },
    "accelerator": "GPU"
  },
  "cells": [
    {
      "cell_type": "markdown",
      "metadata": {
        "id": "view-in-github",
        "colab_type": "text"
      },
      "source": [
        "<a href=\"https://colab.research.google.com/github/Ahmed-L/SER/blob/main/RAVDESS_SER__80-74.ipynb\" target=\"_parent\"><img src=\"https://colab.research.google.com/assets/colab-badge.svg\" alt=\"Open In Colab\"/></a>"
      ]
    },
    {
      "cell_type": "markdown",
      "source": [
        "Unzip Dataset (RAVDESS)"
      ],
      "metadata": {
        "id": "UAetRfWHTQSD"
      }
    },
    {
      "cell_type": "markdown",
      "source": [
        "# Download And Extract"
      ],
      "metadata": {
        "id": "BY5QPBv3h7Uq"
      }
    },
    {
      "cell_type": "code",
      "source": [
        "\n",
        "!gdown --id 1UBZLKSiAJyKoIy_cvIH94ad0EhJLO1vY # Ravdess\n",
        "!gdown --id 1a3R72CZ7IYNa68dQ9UDBQGNr8CWGnHrl # Ravdess csv\n",
        "import zipfile\n",
        "dataset_directory = '/content/Audio_Speech_Actors_01-24.zip' # RAVDESS\n",
        "zip_ref = zipfile.ZipFile(dataset_directory, 'r')\n",
        "zip_ref.extractall('Unzipped_Data')\n",
        "\n",
        "import pandas as pd\n",
        "from sklearn.model_selection import train_test_split\n",
        "csv =  pd.read_csv('/content/ravdess_data.csv')\n",
        "for index, row in csv.iterrows():\n",
        "  if (row['Emotion_ID']==0):\n",
        "    csv.drop(index, axis=0, inplace = True)\n",
        "\n",
        "csv['Emotion_ID'].replace({1:0, 2:1, 3:2, 4:3, 5:4, 6:5, 7:6}, inplace=True)\n",
        "y = pd.DataFrame(csv[['Emotion_ID']])\n",
        "\n",
        "train_csv, test_csv = train_test_split(csv, random_state = 0, stratify=y, test_size = 0.2097, shuffle = True)\n",
        "\n",
        "\n",
        "y = pd.DataFrame(train_csv[['Emotion_ID']])\n",
        "train_csv, val_csv = train_test_split(train_csv, random_state = 0, stratify=y, train_size = 0.886, shuffle = True)\n",
        "val_csv.to_csv(r'val_csv.csv', index=False)\n",
        "train_csv.to_csv(r'train_csv.csv', index=False)\n",
        "test_csv.to_csv(r'test_csv.csv', index=False)\n",
        "print(len(train_csv))\n",
        "print(len(test_csv))\n",
        "print(len(val_csv))"
      ],
      "metadata": {
        "colab": {
          "base_uri": "https://localhost:8080/"
        },
        "id": "PY2QjzdT6Zpj",
        "outputId": "f1d31a08-137d-43b4-d47f-954952e3424f"
      },
      "execution_count": 1,
      "outputs": [
        {
          "output_type": "stream",
          "name": "stdout",
          "text": [
            "Downloading...\n",
            "From: https://drive.google.com/uc?id=1UBZLKSiAJyKoIy_cvIH94ad0EhJLO1vY\n",
            "To: /content/Audio_Speech_Actors_01-24.zip\n",
            "100% 208M/208M [00:01<00:00, 152MB/s]\n",
            "Downloading...\n",
            "From: https://drive.google.com/uc?id=1a3R72CZ7IYNa68dQ9UDBQGNr8CWGnHrl\n",
            "To: /content/ravdess_data.csv\n",
            "100% 94.0k/94.0k [00:00<00:00, 83.2MB/s]\n",
            "940\n",
            "282\n",
            "122\n"
          ]
        }
      ]
    },
    {
      "cell_type": "markdown",
      "source": [
        "# Custom Dataset Class"
      ],
      "metadata": {
        "id": "8m8F1n2QiNXD"
      }
    },
    {
      "cell_type": "markdown",
      "source": [
        "Create custom Dataset"
      ],
      "metadata": {
        "id": "i2kgkj5VWhgx"
      }
    },
    {
      "cell_type": "code",
      "source": [
        "import os\n",
        "import torch\n",
        "from torch.utils.data import Dataset\n",
        "import pandas as pd\n",
        "import torchaudio\n",
        "from torch.utils.data import DataLoader\n",
        "import torch.optim.lr_scheduler as lr_scheduler\n",
        "from torch.nn.functional import normalize\n",
        "\n",
        "\n",
        "class CustomDataset(Dataset):\n",
        "    def __init__(self, annotations_file, audio_dir, transformation, target_sample_rate, num_samples, device):\n",
        "        self.annotations = pd.read_csv(annotations_file)\n",
        "        self.audio_dir = audio_dir\n",
        "        self.device = device\n",
        "        self.transformation = transformation.to(self.device)\n",
        "        self.target_sample_rate = target_sample_rate\n",
        "        self.num_samples = num_samples\n",
        "\n",
        "    def __len__(self):\n",
        "        return len(self.annotations)\n",
        "\n",
        "    def __getitem__(self, index):\n",
        "        audio_sample_path = self._get_audio_sample_path(index)\n",
        "        #print(audio_sample_path)\n",
        "        label = self._get_audio_sample_label(index)\n",
        "        #print(label)\n",
        "        #signal, sr = torchaudio.load(audio_sample_path,frame_offset=int(self.num_samples*.3),num_frames = self.target_sample_rate)\n",
        "        signal, sr = torchaudio.load(audio_sample_path)\n",
        "        signal = signal.to(self.device)\n",
        "        signal = self._resample_if_necessary(signal, sr)\n",
        "        signal = self._mix_down_if_necessary(signal)\n",
        "        signal = self._cut_if_necessary(signal)\n",
        "        signal = self._right_pad_if_necessary(signal)\n",
        "        signal = self.transformation(signal)\n",
        "        # produce delta and delta-delta and add to mfcc\n",
        "        delta = torchaudio.functional.compute_deltas(signal)\n",
        "        delta2 = torchaudio.functional.compute_deltas(delta)\n",
        "        signal = torch.cat((signal, delta, delta2), 1) # concatenating deltas\n",
        "        \n",
        "        #signal = signal + delta + delta2\n",
        "        means = signal.mean(dim=1, keepdim=True)\n",
        "        stds = signal.std(dim=1, keepdim=True)\n",
        "        signal = (signal - means) / stds #NORMALIZED\n",
        "\n",
        "        return signal, label\n",
        "\n",
        "    def _cut_if_necessary(self, signal):\n",
        "        if signal.shape[1] > self.num_samples:\n",
        "            # print(signal.shape[1]) # print sample size\n",
        "            signal = signal[:, :self.num_samples]\n",
        "        return signal\n",
        "\n",
        "    def _right_pad_if_necessary(self, signal):\n",
        "        length_signal = signal.shape[1]\n",
        "        if length_signal < self.num_samples:\n",
        "            num_missing_samples = self.num_samples - length_signal\n",
        "            last_dim_padding = (0, num_missing_samples)\n",
        "            signal = torch.nn.functional.pad(signal, last_dim_padding)\n",
        "        return signal\n",
        "\n",
        "    def _resample_if_necessary(self, signal, sr):\n",
        "        if sr != self.target_sample_rate:\n",
        "            resampler = torchaudio.transforms.Resample(sr, self.target_sample_rate)\n",
        "            resampler = resampler.to(device)\n",
        "            signal = resampler(signal)\n",
        "        return signal\n",
        "\n",
        "    def _mix_down_if_necessary(self, signal):\n",
        "        if signal.shape[0] > 1:\n",
        "            signal = torch.mean(signal, dim=0, keepdim=True)\n",
        "        return signal\n",
        "\n",
        "    # for any audio index this function returns the audio path\n",
        "    def _get_audio_sample_path(self, index):\n",
        "        path = os.path.join(self.audio_dir, self.annotations.iloc[index,0])\n",
        "        return path\n",
        "    \n",
        "    # for specified audio index this will return the label from the data csv\n",
        "    def _get_audio_sample_label(self, index):\n",
        "        return self.annotations.iloc[index, 2]"
      ],
      "metadata": {
        "id": "UBSsEU43WdcD"
      },
      "execution_count": 2,
      "outputs": []
    },
    {
      "cell_type": "markdown",
      "source": [
        "Instantiate the dataset"
      ],
      "metadata": {
        "id": "LY45V_efdoLX"
      }
    },
    {
      "cell_type": "code",
      "source": [
        "\n",
        "TRAIN_CSV = '/content/train_csv.csv'\n",
        "TEST_CSV = '/content/test_csv.csv'\n",
        "VALID_CSV = '/content/val_csv.csv'\n",
        "\n",
        "TRAIN_PATH = ''\n",
        "TEST_PATH = ''\n",
        "VALID_PATH = ''\n",
        "\n",
        "SAMPLE_RATE = 48000\n",
        "NUM_SAMPLES = SAMPLE_RATE*4\n",
        "\n",
        "device = ''\n",
        "if torch.cuda.is_available():\n",
        "    device = \"cuda\"\n",
        "else:\n",
        "    device = \"cpu\"\n",
        "print(f\"Using device {device}\")\n",
        "\n",
        "#mfcc = torchaudio.transforms.MelSpectrogram(sample_rate=SAMPLE_RATE, n_mels = 70,n_fft = 600)\n",
        "mfcc = torchaudio.transforms.MFCC(sample_rate=SAMPLE_RATE, n_mfcc=44, melkwargs={\"n_fft\": 1536, \"hop_length\": 512, \"power\": 2})\n",
        "train_dataset = CustomDataset(TRAIN_CSV,\n",
        "                        TRAIN_PATH,\n",
        "                        mfcc,\n",
        "                        SAMPLE_RATE,\n",
        "                        NUM_SAMPLES,\n",
        "                        device)\n",
        "print(f\"There are {len(train_dataset)} samples in the train.\")\n",
        "\n",
        "val_dataset = CustomDataset(VALID_CSV,\n",
        "                        VALID_PATH,\n",
        "                        mfcc,\n",
        "                        SAMPLE_RATE,\n",
        "                        NUM_SAMPLES,\n",
        "                        device)\n",
        "\n",
        "print(f\"There are {len(val_dataset)} samples in the valid.\")\n",
        "\n",
        "test_dataset = CustomDataset(TEST_CSV,\n",
        "                        TEST_PATH,\n",
        "                        mfcc,\n",
        "                        SAMPLE_RATE,\n",
        "                        NUM_SAMPLES,\n",
        "                        device)\n",
        "print(f\"There are {len(test_dataset)} samples in the test.\")\n",
        "signal, label = val_dataset[0]\n",
        "print(signal.shape)"
      ],
      "metadata": {
        "colab": {
          "base_uri": "https://localhost:8080/"
        },
        "id": "irCA4qM4dneT",
        "outputId": "8a950190-852a-4c0e-cb8e-5bc6bd5cab29"
      },
      "execution_count": 3,
      "outputs": [
        {
          "output_type": "stream",
          "name": "stdout",
          "text": [
            "Using device cuda\n",
            "There are 940 samples in the train.\n",
            "There are 122 samples in the valid.\n",
            "There are 282 samples in the test.\n",
            "torch.Size([1, 132, 376])\n"
          ]
        }
      ]
    },
    {
      "cell_type": "markdown",
      "source": [
        "# Model Loading and Functions"
      ],
      "metadata": {
        "id": "V7ZEOkhKmF3E"
      }
    },
    {
      "cell_type": "code",
      "execution_count": 20,
      "metadata": {
        "id": "WDxxZBlnkUw6"
      },
      "outputs": [],
      "source": [
        "from torch import nn\n",
        "from torchsummary import summary\n",
        "\n",
        "from torchvision import models\n",
        "model = models.resnet50(pretrained=True)\n",
        "\n",
        "model = model.to(device)\n",
        "model.conv1=nn.Conv2d(1, model.conv1.out_channels, \n",
        "                      kernel_size=model.conv1.kernel_size[0], \n",
        "                      stride=model.conv1.stride[0], \n",
        "                      padding=model.conv1.padding[0])\n",
        "num_ftrs = model.fc.in_features\n",
        "model.fc = nn.Sequential(*[nn.Dropout(p=0.5), nn.Linear(num_ftrs, 7)])"
      ]
    },
    {
      "cell_type": "code",
      "source": [
        "#!gdown --id 18hQTkVXPjlmxhFmpD2U9Qa_uhvYUY3M_\n",
        "#model = torch.load('/content/Resnet_high_model.pth')\n",
        "model = model.to(device)\n",
        "#summary(model, signal.shape)"
      ],
      "metadata": {
        "id": "UN2A5cVgyL4-"
      },
      "execution_count": 21,
      "outputs": []
    },
    {
      "cell_type": "markdown",
      "source": [
        "# Model Parameter Setting"
      ],
      "metadata": {
        "id": "3TklzFYmttsi"
      }
    },
    {
      "cell_type": "code",
      "source": [
        "from torch import nn\n",
        "train_loss = []\n",
        "val_loss = []\n",
        "test_loss = []\n",
        "\n",
        "train_acc = []\n",
        "val_acc = []\n",
        "test_acc = []\n",
        "\n",
        "BATCH_SIZE = 32\n",
        "criterion = nn.CrossEntropyLoss()\n",
        "optimizer = torch.optim.Adam(model.parameters(), lr=10**-4)\n",
        "\n",
        "#optimizer = torch.optim.SGD(model.parameters(), lr=0.1, momentum=0.9)\n",
        "#step_lr_scheduler = lr_scheduler.ReduceLROnPlateau(optimizer, mode='max',factor=0.1,patience=2, verbos=True)\n",
        "#step_lr_scheduler = lr_scheduler.StepLR(optimizer, step_size=3, gamma=0.1)\n",
        "\n",
        "def create_data_loader(train_data, batch_size):\n",
        "    train_dataloader = DataLoader(train_data, batch_size=batch_size)\n",
        "    return train_dataloader\n",
        "\n",
        "train_dataloader = create_data_loader(train_dataset, BATCH_SIZE)\n",
        "test_dataloader = create_data_loader(test_dataset, BATCH_SIZE)\n",
        "val_dataloader = create_data_loader(val_dataset, BATCH_SIZE)"
      ],
      "metadata": {
        "id": "Vn4QrDSngyhX"
      },
      "execution_count": 22,
      "outputs": []
    },
    {
      "cell_type": "code",
      "source": [
        "def train_loop(dataloader, model, criterion, optimizer):\n",
        "    model.train()\n",
        "    running_loss = 0.0\n",
        "    running_corrects = 0\n",
        "    size = len(dataloader.dataset)  \n",
        "\n",
        "    for batch, (X,y) in enumerate(dataloader):\n",
        "        # Compute prediction and loss\n",
        "        inputs, labels = X.to(device), y.to(device)\n",
        "        \n",
        "        with torch.set_grad_enabled(True):\n",
        "            outputs = model(inputs)\n",
        "            _, preds = torch.max(outputs, 1)\n",
        "            loss = criterion(outputs, labels)\n",
        "\n",
        "            optimizer.zero_grad()\n",
        "            loss.backward()\n",
        "            optimizer.step()\n",
        "\n",
        "        running_loss += loss.item() * inputs.size(0)\n",
        "        running_corrects += torch.sum(preds == labels.data)\n",
        "\n",
        "        if batch % 80 == 0:\n",
        "            loss, current = loss.item(), batch * len(X)\n",
        "            print(f\"loss: {loss:>7f}  [{current:>5d}/{size:>5d}]\")\n",
        "\n",
        "    epoch_loss = running_loss / size\n",
        "    epoch_acc = running_corrects.double() / size\n",
        "\n",
        "    print('Train      Loss: {:.4f} Acc: {:.4f}'.format(\n",
        "                 epoch_loss, epoch_acc))\n",
        "    \n",
        "    return epoch_loss, epoch_acc"
      ],
      "metadata": {
        "id": "Jhk6pTKCSEQY"
      },
      "execution_count": 23,
      "outputs": []
    },
    {
      "cell_type": "code",
      "source": [
        "def test_loop(dataloader, model, criterion):\n",
        "    model.eval()\n",
        "    running_loss = 0.0\n",
        "    running_corrects = 0\n",
        "    size = len(dataloader.dataset)  \n",
        "\n",
        "    for batch, (X,y) in enumerate(dataloader):\n",
        "        # Compute prediction and loss\n",
        "        inputs, labels = X.to(device), y.to(device)\n",
        "        \n",
        "        with torch.set_grad_enabled(False):\n",
        "            outputs = model(inputs)\n",
        "            _, preds = torch.max(outputs, 1)\n",
        "            loss = criterion(outputs, labels)\n",
        "\n",
        "        running_loss += loss.item() * inputs.size(0)\n",
        "        running_corrects += torch.sum(preds == labels.data)\n",
        "\n",
        "    epoch_loss = running_loss / size\n",
        "    epoch_acc = running_corrects.double() / size\n",
        "\n",
        "    print('Validation Loss: {:.4f} Acc: {:.4f}'.format(\n",
        "                 epoch_loss, epoch_acc))\n",
        "    \n",
        "    return epoch_loss,epoch_acc\n",
        "    "
      ],
      "metadata": {
        "id": "RngTm7rGSm6v"
      },
      "execution_count": 24,
      "outputs": []
    },
    {
      "cell_type": "markdown",
      "source": [
        "# Model Running"
      ],
      "metadata": {
        "id": "h3_nrlbJUS5i"
      }
    },
    {
      "cell_type": "code",
      "source": [
        "import math\n",
        "import time\n",
        "import copy\n",
        "\n",
        "best_model_wts = copy.deepcopy(model.state_dict())\n",
        "best_acc = 0.0\n",
        "\n",
        "EPOCHS = 40\n",
        "start = time.time()\n",
        "for t in range(EPOCHS):\n",
        "    print(f\"\\nEpoch {t+1}\\n-------------------------------\")\n",
        "    ls , ac = train_loop(train_dataloader, model, criterion, optimizer)\n",
        "    train_loss.append(ls)\n",
        "    train_acc.append(ac)\n",
        "\n",
        "    ls,ac = test_loop(val_dataloader, model, criterion)\n",
        "    val_loss.append(ls)\n",
        "    val_acc.append(ac)\n",
        "\n",
        "    # #testing \n",
        "    # ls,ac = test_loop(test_dataloader, model, criterion)\n",
        "    # test_loss.append(ls)\n",
        "    # test_acc.append(ac)\n",
        "    # #testing \n",
        "\n",
        "    if ac > best_acc:\n",
        "        best_acc = ac\n",
        "        best_model_wts = copy.deepcopy(model.state_dict())\n",
        "\n",
        "    #step_lr_scheduler.step()\n",
        "    \n",
        "final = (time.time() - start)/60\n",
        "model.load_state_dict(best_model_wts)\n",
        "print(f\"Done for all {EPOCHS} epochs in {math.ceil(final)} minutes\\n\")\n",
        "print(f\"Best Validation accuracy: {best_acc} \\n\")"
      ],
      "metadata": {
        "id": "rBPMtivT4pmH",
        "outputId": "c90dc1e5-ed6a-43c3-cb07-d57a3ceb6edc",
        "colab": {
          "base_uri": "https://localhost:8080/"
        }
      },
      "execution_count": 25,
      "outputs": [
        {
          "output_type": "stream",
          "name": "stdout",
          "text": [
            "\n",
            "Epoch 1\n",
            "-------------------------------\n",
            "loss: 1.970699  [    0/  940]\n",
            "Train      Loss: 1.6265 Acc: 0.3798\n",
            "Validation Loss: 1.4976 Acc: 0.4508\n",
            "\n",
            "Epoch 2\n",
            "-------------------------------\n",
            "loss: 1.346777  [    0/  940]\n",
            "Train      Loss: 0.9708 Acc: 0.6798\n",
            "Validation Loss: 0.9646 Acc: 0.6639\n",
            "\n",
            "Epoch 3\n",
            "-------------------------------\n",
            "loss: 0.641887  [    0/  940]\n",
            "Train      Loss: 0.4118 Acc: 0.8926\n",
            "Validation Loss: 0.9539 Acc: 0.6557\n",
            "\n",
            "Epoch 4\n",
            "-------------------------------\n",
            "loss: 0.267511  [    0/  940]\n",
            "Train      Loss: 0.1658 Acc: 0.9660\n",
            "Validation Loss: 1.0910 Acc: 0.6393\n",
            "\n",
            "Epoch 5\n",
            "-------------------------------\n",
            "loss: 0.054438  [    0/  940]\n",
            "Train      Loss: 0.0915 Acc: 0.9830\n",
            "Validation Loss: 1.1995 Acc: 0.5902\n",
            "\n",
            "Epoch 6\n",
            "-------------------------------\n",
            "loss: 0.071706  [    0/  940]\n",
            "Train      Loss: 0.0797 Acc: 0.9862\n",
            "Validation Loss: 0.9622 Acc: 0.6967\n",
            "\n",
            "Epoch 7\n",
            "-------------------------------\n",
            "loss: 0.025865  [    0/  940]\n",
            "Train      Loss: 0.0649 Acc: 0.9840\n",
            "Validation Loss: 1.1156 Acc: 0.6885\n",
            "\n",
            "Epoch 8\n",
            "-------------------------------\n",
            "loss: 0.049939  [    0/  940]\n",
            "Train      Loss: 0.0576 Acc: 0.9851\n",
            "Validation Loss: 0.9131 Acc: 0.7295\n",
            "\n",
            "Epoch 9\n",
            "-------------------------------\n",
            "loss: 0.025392  [    0/  940]\n",
            "Train      Loss: 0.0430 Acc: 0.9926\n",
            "Validation Loss: 0.8354 Acc: 0.7213\n",
            "\n",
            "Epoch 10\n",
            "-------------------------------\n",
            "loss: 0.034576  [    0/  940]\n",
            "Train      Loss: 0.0242 Acc: 0.9968\n",
            "Validation Loss: 1.0445 Acc: 0.6639\n",
            "\n",
            "Epoch 11\n",
            "-------------------------------\n",
            "loss: 0.005656  [    0/  940]\n",
            "Train      Loss: 0.0104 Acc: 1.0000\n",
            "Validation Loss: 0.8587 Acc: 0.7459\n",
            "\n",
            "Epoch 12\n",
            "-------------------------------\n",
            "loss: 0.003481  [    0/  940]\n",
            "Train      Loss: 0.0048 Acc: 1.0000\n",
            "Validation Loss: 0.7297 Acc: 0.7951\n",
            "\n",
            "Epoch 13\n",
            "-------------------------------\n",
            "loss: 0.001922  [    0/  940]\n",
            "Train      Loss: 0.0023 Acc: 1.0000\n",
            "Validation Loss: 0.7157 Acc: 0.7869\n",
            "\n",
            "Epoch 14\n",
            "-------------------------------\n",
            "loss: 0.001420  [    0/  940]\n",
            "Train      Loss: 0.0017 Acc: 1.0000\n",
            "Validation Loss: 0.7314 Acc: 0.7951\n",
            "\n",
            "Epoch 15\n",
            "-------------------------------\n",
            "loss: 0.001258  [    0/  940]\n",
            "Train      Loss: 0.0014 Acc: 1.0000\n",
            "Validation Loss: 0.7343 Acc: 0.8033\n",
            "\n",
            "Epoch 16\n",
            "-------------------------------\n",
            "loss: 0.001144  [    0/  940]\n",
            "Train      Loss: 0.0012 Acc: 1.0000\n",
            "Validation Loss: 0.7351 Acc: 0.8033\n",
            "\n",
            "Epoch 17\n",
            "-------------------------------\n",
            "loss: 0.000969  [    0/  940]\n",
            "Train      Loss: 0.0011 Acc: 1.0000\n",
            "Validation Loss: 0.7369 Acc: 0.7951\n",
            "\n",
            "Epoch 18\n",
            "-------------------------------\n",
            "loss: 0.000821  [    0/  940]\n",
            "Train      Loss: 0.0010 Acc: 1.0000\n",
            "Validation Loss: 0.7395 Acc: 0.7951\n",
            "\n",
            "Epoch 19\n",
            "-------------------------------\n",
            "loss: 0.000886  [    0/  940]\n",
            "Train      Loss: 0.0010 Acc: 1.0000\n",
            "Validation Loss: 0.7414 Acc: 0.7951\n",
            "\n",
            "Epoch 20\n",
            "-------------------------------\n",
            "loss: 0.000744  [    0/  940]\n",
            "Train      Loss: 0.0009 Acc: 1.0000\n",
            "Validation Loss: 0.7456 Acc: 0.7951\n",
            "\n",
            "Epoch 21\n",
            "-------------------------------\n",
            "loss: 0.000881  [    0/  940]\n",
            "Train      Loss: 0.0008 Acc: 1.0000\n",
            "Validation Loss: 0.7480 Acc: 0.7951\n",
            "\n",
            "Epoch 22\n",
            "-------------------------------\n",
            "loss: 0.000595  [    0/  940]\n",
            "Train      Loss: 0.0008 Acc: 1.0000\n",
            "Validation Loss: 0.7485 Acc: 0.7951\n",
            "\n",
            "Epoch 23\n",
            "-------------------------------\n",
            "loss: 0.000468  [    0/  940]\n",
            "Train      Loss: 0.0007 Acc: 1.0000\n",
            "Validation Loss: 0.7474 Acc: 0.7951\n",
            "\n",
            "Epoch 24\n",
            "-------------------------------\n",
            "loss: 0.000539  [    0/  940]\n",
            "Train      Loss: 0.0007 Acc: 1.0000\n",
            "Validation Loss: 0.7504 Acc: 0.7951\n",
            "\n",
            "Epoch 25\n",
            "-------------------------------\n",
            "loss: 0.000521  [    0/  940]\n",
            "Train      Loss: 0.0006 Acc: 1.0000\n",
            "Validation Loss: 0.7521 Acc: 0.8033\n",
            "\n",
            "Epoch 26\n",
            "-------------------------------\n",
            "loss: 0.000359  [    0/  940]\n",
            "Train      Loss: 0.0006 Acc: 1.0000\n",
            "Validation Loss: 0.7532 Acc: 0.7951\n",
            "\n",
            "Epoch 27\n",
            "-------------------------------\n",
            "loss: 0.000505  [    0/  940]\n",
            "Train      Loss: 0.0006 Acc: 1.0000\n",
            "Validation Loss: 0.7544 Acc: 0.7951\n",
            "\n",
            "Epoch 28\n",
            "-------------------------------\n",
            "loss: 0.000439  [    0/  940]\n",
            "Train      Loss: 0.0006 Acc: 1.0000\n",
            "Validation Loss: 0.7566 Acc: 0.8033\n",
            "\n",
            "Epoch 29\n",
            "-------------------------------\n",
            "loss: 0.000419  [    0/  940]\n",
            "Train      Loss: 0.0005 Acc: 1.0000\n",
            "Validation Loss: 0.7575 Acc: 0.7951\n",
            "\n",
            "Epoch 30\n",
            "-------------------------------\n",
            "loss: 0.000410  [    0/  940]\n",
            "Train      Loss: 0.0005 Acc: 1.0000\n",
            "Validation Loss: 0.7592 Acc: 0.7951\n",
            "\n",
            "Epoch 31\n",
            "-------------------------------\n",
            "loss: 0.000362  [    0/  940]\n",
            "Train      Loss: 0.0005 Acc: 1.0000\n",
            "Validation Loss: 0.7598 Acc: 0.7951\n",
            "\n",
            "Epoch 32\n",
            "-------------------------------\n",
            "loss: 0.000342  [    0/  940]\n",
            "Train      Loss: 0.0005 Acc: 1.0000\n",
            "Validation Loss: 0.7614 Acc: 0.7951\n",
            "\n",
            "Epoch 33\n",
            "-------------------------------\n",
            "loss: 0.000377  [    0/  940]\n",
            "Train      Loss: 0.0005 Acc: 1.0000\n",
            "Validation Loss: 0.7611 Acc: 0.7951\n",
            "\n",
            "Epoch 34\n",
            "-------------------------------\n",
            "loss: 0.000321  [    0/  940]\n",
            "Train      Loss: 0.0004 Acc: 1.0000\n",
            "Validation Loss: 0.7630 Acc: 0.7951\n",
            "\n",
            "Epoch 35\n",
            "-------------------------------\n",
            "loss: 0.000284  [    0/  940]\n",
            "Train      Loss: 0.0004 Acc: 1.0000\n",
            "Validation Loss: 0.7634 Acc: 0.7951\n",
            "\n",
            "Epoch 36\n",
            "-------------------------------\n",
            "loss: 0.000305  [    0/  940]\n",
            "Train      Loss: 0.0004 Acc: 1.0000\n",
            "Validation Loss: 0.7644 Acc: 0.7951\n",
            "\n",
            "Epoch 37\n",
            "-------------------------------\n",
            "loss: 0.000320  [    0/  940]\n",
            "Train      Loss: 0.0004 Acc: 1.0000\n",
            "Validation Loss: 0.7662 Acc: 0.7951\n",
            "\n",
            "Epoch 38\n",
            "-------------------------------\n",
            "loss: 0.000335  [    0/  940]\n",
            "Train      Loss: 0.0004 Acc: 1.0000\n",
            "Validation Loss: 0.7671 Acc: 0.7951\n",
            "\n",
            "Epoch 39\n",
            "-------------------------------\n",
            "loss: 0.000304  [    0/  940]\n",
            "Train      Loss: 0.0004 Acc: 1.0000\n",
            "Validation Loss: 0.7676 Acc: 0.7951\n",
            "\n",
            "Epoch 40\n",
            "-------------------------------\n",
            "loss: 0.000303  [    0/  940]\n",
            "Train      Loss: 0.0003 Acc: 1.0000\n",
            "Validation Loss: 0.7679 Acc: 0.7951\n",
            "Done for all 40 epochs in 10 minutes\n",
            "\n",
            "Best Validation accuracy: 0.8032786885245902 \n",
            "\n"
          ]
        }
      ]
    },
    {
      "cell_type": "markdown",
      "source": [
        "# Draw Graphs - Training and Validation"
      ],
      "metadata": {
        "id": "ZiTdXyXnUdGy"
      }
    },
    {
      "cell_type": "code",
      "source": [
        "from matplotlib import pyplot as plt\n",
        "plt.figure(figsize=[6.4, 4.8],facecolor='white', edgecolor='black',dpi=100)\n",
        "\n",
        "plt.title('Loss Curve')\n",
        "plt.plot(train_loss,label='Training Loss')\n",
        "plt.plot(val_loss,label='Validation Loss')\n",
        "#plt.plot(test_loss,label='Testing Loss')  #comment this for inference\n",
        "plt.xlabel('Epoch')\n",
        "plt.ylabel('Loss')\n",
        "plt.legend()\n",
        "plt.grid()"
      ],
      "metadata": {
        "colab": {
          "base_uri": "https://localhost:8080/",
          "height": 465
        },
        "id": "v4wfvYkfTZ9E",
        "outputId": "febc7725-fa78-4664-de08-a03f8ca1bb47"
      },
      "execution_count": 26,
      "outputs": [
        {
          "output_type": "display_data",
          "data": {
            "image/png": "[encoded data removed]",
            "text/plain": [
              "<Figure size 640x480 with 1 Axes>"
            ]
          },
          "metadata": {}
        }
      ]
    },
    {
      "cell_type": "code",
      "source": [
        "plt.figure(figsize=[6.4, 4.8],facecolor='white', edgecolor='black',dpi=100)\n",
        "plt.title('Accuracy Curve')\n",
        "plt.plot(train_acc,label='Training Accuracy')\n",
        "plt.plot(val_acc,label='Validation Accuracy')\n",
        "#plt.plot(test_acc,label='Testing Accuracy')  #comment this for inference\n",
        "plt.xlabel('Epoch')\n",
        "plt.ylabel('Accuracy')\n",
        "plt.legend()\n",
        "plt.grid()"
      ],
      "metadata": {
        "colab": {
          "base_uri": "https://localhost:8080/",
          "height": 465
        },
        "id": "jLHvmjjeT03M",
        "outputId": "5435c427-b3cd-4bc4-9448-35046fa0f352"
      },
      "execution_count": 27,
      "outputs": [
        {
          "output_type": "display_data",
          "data": {
            "image/png": "[encoded data removed]",
            "text/plain": [
              "<Figure size 640x480 with 1 Axes>"
            ]
          },
          "metadata": {}
        }
      ]
    },
    {
      "cell_type": "markdown",
      "source": [
        "# Testing The Model"
      ],
      "metadata": {
        "id": "UsUgOQmt1jKk"
      }
    },
    {
      "cell_type": "code",
      "source": [
        "test_loop(test_dataloader, model, criterion)"
      ],
      "metadata": {
        "colab": {
          "base_uri": "https://localhost:8080/"
        },
        "id": "1c8hjIdfZmLT",
        "outputId": "7522fe90-a352-4eb6-e1c8-94c351d33d36"
      },
      "execution_count": 30,
      "outputs": [
        {
          "output_type": "stream",
          "name": "stdout",
          "text": [
            "Validation Loss: 0.9568 Acc: 0.7482\n"
          ]
        },
        {
          "output_type": "execute_result",
          "data": {
            "text/plain": [
              "(0.9567974467649527, tensor(0.7482, device='cuda:0', dtype=torch.float64))"
            ]
          },
          "metadata": {},
          "execution_count": 30
        }
      ]
    },
    {
      "cell_type": "code",
      "source": [
        "torch.save(model, '/content/RavdessResnet50__latest.pth')"
      ],
      "metadata": {
        "id": "iH-8k03aFHsF"
      },
      "execution_count": 29,
      "outputs": []
    },
    {
      "cell_type": "code",
      "source": [
        "model2 = model\n",
        "model2.load_state_dict(best_model_wts)\n",
        "test_loop(test_dataloader, model2, criterion)"
      ],
      "metadata": {
        "colab": {
          "base_uri": "https://localhost:8080/"
        },
        "id": "ZO_wm4YoEfiC",
        "outputId": "2041bd49-4557-4aca-b41b-a68d05da1251"
      },
      "execution_count": 32,
      "outputs": [
        {
          "output_type": "stream",
          "name": "stdout",
          "text": [
            "Validation Loss: 0.9568 Acc: 0.7482\n"
          ]
        },
        {
          "output_type": "execute_result",
          "data": {
            "text/plain": [
              "(0.9567974467649527, tensor(0.7482, device='cuda:0', dtype=torch.float64))"
            ]
          },
          "metadata": {},
          "execution_count": 32
        }
      ]
    },
    {
      "cell_type": "code",
      "source": [
        "summary(model, signal.shape)"
      ],
      "metadata": {
        "id": "TrFBPXLKGUSU"
      },
      "execution_count": null,
      "outputs": []
    }
  ]
}