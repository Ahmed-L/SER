{
  "nbformat": 4,
  "nbformat_minor": 0,
  "metadata": {
    "colab": {
      "name": "Copy of Latest_Updated_skeleton.ipynb",
      "provenance": [],
      "include_colab_link": true
    },
    "kernelspec": {
      "name": "python3",
      "display_name": "Python 3"
    },
    "language_info": {
      "name": "python"
    },
    "accelerator": "GPU",
    "widgets": {
      "application/vnd.jupyter.widget-state+json": {
        "02dd9c57605449b8826204f41dad51b1": {
          "model_module": "@jupyter-widgets/controls",
          "model_name": "HBoxModel",
          "model_module_version": "1.5.0",
          "state": {
            "_view_name": "HBoxView",
            "_dom_classes": [],
            "_model_name": "HBoxModel",
            "_view_module": "@jupyter-widgets/controls",
            "_model_module_version": "1.5.0",
            "_view_count": null,
            "_view_module_version": "1.5.0",
            "box_style": "",
            "layout": "IPY_MODEL_0ac551a6b0d449a7b66ba922f87eb14e",
            "_model_module": "@jupyter-widgets/controls",
            "children": [
              "IPY_MODEL_b1e869651933475aa91378b576ea97c8",
              "IPY_MODEL_1b7151d72ecc4210b82dd5a68812ca75",
              "IPY_MODEL_6c3ab52079654ff5bf888c077febfc6e"
            ]
          }
        },
        "0ac551a6b0d449a7b66ba922f87eb14e": {
          "model_module": "@jupyter-widgets/base",
          "model_name": "LayoutModel",
          "model_module_version": "1.2.0",
          "state": {
            "_view_name": "LayoutView",
            "grid_template_rows": null,
            "right": null,
            "justify_content": null,
            "_view_module": "@jupyter-widgets/base",
            "overflow": null,
            "_model_module_version": "1.2.0",
            "_view_count": null,
            "flex_flow": null,
            "width": null,
            "min_width": null,
            "border": null,
            "align_items": null,
            "bottom": null,
            "_model_module": "@jupyter-widgets/base",
            "top": null,
            "grid_column": null,
            "overflow_y": null,
            "overflow_x": null,
            "grid_auto_flow": null,
            "grid_area": null,
            "grid_template_columns": null,
            "flex": null,
            "_model_name": "LayoutModel",
            "justify_items": null,
            "grid_row": null,
            "max_height": null,
            "align_content": null,
            "visibility": null,
            "align_self": null,
            "height": null,
            "min_height": null,
            "padding": null,
            "grid_auto_rows": null,
            "grid_gap": null,
            "max_width": null,
            "order": null,
            "_view_module_version": "1.2.0",
            "grid_template_areas": null,
            "object_position": null,
            "object_fit": null,
            "grid_auto_columns": null,
            "margin": null,
            "display": null,
            "left": null
          }
        },
        "b1e869651933475aa91378b576ea97c8": {
          "model_module": "@jupyter-widgets/controls",
          "model_name": "HTMLModel",
          "model_module_version": "1.5.0",
          "state": {
            "_view_name": "HTMLView",
            "style": "IPY_MODEL_0ae02a58d9424f7c8ef8d785f4c24f39",
            "_dom_classes": [],
            "description": "",
            "_model_name": "HTMLModel",
            "placeholder": "​",
            "_view_module": "@jupyter-widgets/controls",
            "_model_module_version": "1.5.0",
            "value": "100%",
            "_view_count": null,
            "_view_module_version": "1.5.0",
            "description_tooltip": null,
            "_model_module": "@jupyter-widgets/controls",
            "layout": "IPY_MODEL_e76e2646df6943819f0d7eec5851d478"
          }
        },
        "1b7151d72ecc4210b82dd5a68812ca75": {
          "model_module": "@jupyter-widgets/controls",
          "model_name": "FloatProgressModel",
          "model_module_version": "1.5.0",
          "state": {
            "_view_name": "ProgressView",
            "style": "IPY_MODEL_5e9ca4a1bedd4618b472e91439bc88a4",
            "_dom_classes": [],
            "description": "",
            "_model_name": "FloatProgressModel",
            "bar_style": "success",
            "max": 102530333,
            "_view_module": "@jupyter-widgets/controls",
            "_model_module_version": "1.5.0",
            "value": 102530333,
            "_view_count": null,
            "_view_module_version": "1.5.0",
            "orientation": "horizontal",
            "min": 0,
            "description_tooltip": null,
            "_model_module": "@jupyter-widgets/controls",
            "layout": "IPY_MODEL_e6860f3ccf3b45879b96b073e34d46ed"
          }
        },
        "6c3ab52079654ff5bf888c077febfc6e": {
          "model_module": "@jupyter-widgets/controls",
          "model_name": "HTMLModel",
          "model_module_version": "1.5.0",
          "state": {
            "_view_name": "HTMLView",
            "style": "IPY_MODEL_92df56af564a43258c47414ae7f658df",
            "_dom_classes": [],
            "description": "",
            "_model_name": "HTMLModel",
            "placeholder": "​",
            "_view_module": "@jupyter-widgets/controls",
            "_model_module_version": "1.5.0",
            "value": " 97.8M/97.8M [00:08&lt;00:00, 15.6MB/s]",
            "_view_count": null,
            "_view_module_version": "1.5.0",
            "description_tooltip": null,
            "_model_module": "@jupyter-widgets/controls",
            "layout": "IPY_MODEL_5de40235dfe949a0afa85b9911d5bebe"
          }
        },
        "0ae02a58d9424f7c8ef8d785f4c24f39": {
          "model_module": "@jupyter-widgets/controls",
          "model_name": "DescriptionStyleModel",
          "model_module_version": "1.5.0",
          "state": {
            "_view_name": "StyleView",
            "_model_name": "DescriptionStyleModel",
            "description_width": "",
            "_view_module": "@jupyter-widgets/base",
            "_model_module_version": "1.5.0",
            "_view_count": null,
            "_view_module_version": "1.2.0",
            "_model_module": "@jupyter-widgets/controls"
          }
        },
        "e76e2646df6943819f0d7eec5851d478": {
          "model_module": "@jupyter-widgets/base",
          "model_name": "LayoutModel",
          "model_module_version": "1.2.0",
          "state": {
            "_view_name": "LayoutView",
            "grid_template_rows": null,
            "right": null,
            "justify_content": null,
            "_view_module": "@jupyter-widgets/base",
            "overflow": null,
            "_model_module_version": "1.2.0",
            "_view_count": null,
            "flex_flow": null,
            "width": null,
            "min_width": null,
            "border": null,
            "align_items": null,
            "bottom": null,
            "_model_module": "@jupyter-widgets/base",
            "top": null,
            "grid_column": null,
            "overflow_y": null,
            "overflow_x": null,
            "grid_auto_flow": null,
            "grid_area": null,
            "grid_template_columns": null,
            "flex": null,
            "_model_name": "LayoutModel",
            "justify_items": null,
            "grid_row": null,
            "max_height": null,
            "align_content": null,
            "visibility": null,
            "align_self": null,
            "height": null,
            "min_height": null,
            "padding": null,
            "grid_auto_rows": null,
            "grid_gap": null,
            "max_width": null,
            "order": null,
            "_view_module_version": "1.2.0",
            "grid_template_areas": null,
            "object_position": null,
            "object_fit": null,
            "grid_auto_columns": null,
            "margin": null,
            "display": null,
            "left": null
          }
        },
        "5e9ca4a1bedd4618b472e91439bc88a4": {
          "model_module": "@jupyter-widgets/controls",
          "model_name": "ProgressStyleModel",
          "model_module_version": "1.5.0",
          "state": {
            "_view_name": "StyleView",
            "_model_name": "ProgressStyleModel",
            "description_width": "",
            "_view_module": "@jupyter-widgets/base",
            "_model_module_version": "1.5.0",
            "_view_count": null,
            "_view_module_version": "1.2.0",
            "bar_color": null,
            "_model_module": "@jupyter-widgets/controls"
          }
        },
        "e6860f3ccf3b45879b96b073e34d46ed": {
          "model_module": "@jupyter-widgets/base",
          "model_name": "LayoutModel",
          "model_module_version": "1.2.0",
          "state": {
            "_view_name": "LayoutView",
            "grid_template_rows": null,
            "right": null,
            "justify_content": null,
            "_view_module": "@jupyter-widgets/base",
            "overflow": null,
            "_model_module_version": "1.2.0",
            "_view_count": null,
            "flex_flow": null,
            "width": null,
            "min_width": null,
            "border": null,
            "align_items": null,
            "bottom": null,
            "_model_module": "@jupyter-widgets/base",
            "top": null,
            "grid_column": null,
            "overflow_y": null,
            "overflow_x": null,
            "grid_auto_flow": null,
            "grid_area": null,
            "grid_template_columns": null,
            "flex": null,
            "_model_name": "LayoutModel",
            "justify_items": null,
            "grid_row": null,
            "max_height": null,
            "align_content": null,
            "visibility": null,
            "align_self": null,
            "height": null,
            "min_height": null,
            "padding": null,
            "grid_auto_rows": null,
            "grid_gap": null,
            "max_width": null,
            "order": null,
            "_view_module_version": "1.2.0",
            "grid_template_areas": null,
            "object_position": null,
            "object_fit": null,
            "grid_auto_columns": null,
            "margin": null,
            "display": null,
            "left": null
          }
        },
        "92df56af564a43258c47414ae7f658df": {
          "model_module": "@jupyter-widgets/controls",
          "model_name": "DescriptionStyleModel",
          "model_module_version": "1.5.0",
          "state": {
            "_view_name": "StyleView",
            "_model_name": "DescriptionStyleModel",
            "description_width": "",
            "_view_module": "@jupyter-widgets/base",
            "_model_module_version": "1.5.0",
            "_view_count": null,
            "_view_module_version": "1.2.0",
            "_model_module": "@jupyter-widgets/controls"
          }
        },
        "5de40235dfe949a0afa85b9911d5bebe": {
          "model_module": "@jupyter-widgets/base",
          "model_name": "LayoutModel",
          "model_module_version": "1.2.0",
          "state": {
            "_view_name": "LayoutView",
            "grid_template_rows": null,
            "right": null,
            "justify_content": null,
            "_view_module": "@jupyter-widgets/base",
            "overflow": null,
            "_model_module_version": "1.2.0",
            "_view_count": null,
            "flex_flow": null,
            "width": null,
            "min_width": null,
            "border": null,
            "align_items": null,
            "bottom": null,
            "_model_module": "@jupyter-widgets/base",
            "top": null,
            "grid_column": null,
            "overflow_y": null,
            "overflow_x": null,
            "grid_auto_flow": null,
            "grid_area": null,
            "grid_template_columns": null,
            "flex": null,
            "_model_name": "LayoutModel",
            "justify_items": null,
            "grid_row": null,
            "max_height": null,
            "align_content": null,
            "visibility": null,
            "align_self": null,
            "height": null,
            "min_height": null,
            "padding": null,
            "grid_auto_rows": null,
            "grid_gap": null,
            "max_width": null,
            "order": null,
            "_view_module_version": "1.2.0",
            "grid_template_areas": null,
            "object_position": null,
            "object_fit": null,
            "grid_auto_columns": null,
            "margin": null,
            "display": null,
            "left": null
          }
        }
      }
    }
  },
  "cells": [
    {
      "cell_type": "markdown",
      "metadata": {
        "id": "view-in-github",
        "colab_type": "text"
      },
      "source": [
        "<a href=\"https://colab.research.google.com/github/Ahmed-L/SER/blob/main/SUBESCO_SER_58_45.ipynb\" target=\"_parent\"><img src=\"https://colab.research.google.com/assets/colab-badge.svg\" alt=\"Open In Colab\"/></a>"
      ]
    },
    {
      "cell_type": "markdown",
      "source": [
        "Unzip Dataset (Subesco)"
      ],
      "metadata": {
        "id": "UAetRfWHTQSD"
      }
    },
    {
      "cell_type": "markdown",
      "source": [
        "# Download And Extract"
      ],
      "metadata": {
        "id": "BY5QPBv3h7Uq"
      }
    },
    {
      "cell_type": "code",
      "source": [
        "#Subesco.zip\n",
        "!gdown --id 1k-afEJdwz5Tf4-bsuKOJzP7xn-KQTlkM"
      ],
      "metadata": {
        "colab": {
          "base_uri": "https://localhost:8080/"
        },
        "id": "PY2QjzdT6Zpj",
        "outputId": "400e320c-5abe-4b39-dfc5-c2232a089e85"
      },
      "execution_count": 1,
      "outputs": [
        {
          "output_type": "stream",
          "name": "stdout",
          "text": [
            "Downloading...\n",
            "From: https://drive.google.com/uc?id=1k-afEJdwz5Tf4-bsuKOJzP7xn-KQTlkM\n",
            "To: /content/SUBESCO.zip\n",
            "100% 1.65G/1.65G [00:09<00:00, 174MB/s]\n"
          ]
        }
      ]
    },
    {
      "cell_type": "code",
      "execution_count": 2,
      "metadata": {
        "id": "kcAXMisz2plC"
      },
      "outputs": [],
      "source": [
        "import zipfile\n",
        "dataset_directory = '/content/SUBESCO.zip'\n",
        "zip_ref = zipfile.ZipFile(dataset_directory, 'r')\n",
        "zip_ref.extractall('/content')\n",
        "zip_ref.close()"
      ]
    },
    {
      "cell_type": "markdown",
      "source": [
        "# Custom Dataset Class"
      ],
      "metadata": {
        "id": "8m8F1n2QiNXD"
      }
    },
    {
      "cell_type": "markdown",
      "source": [
        "Create custom Dataset"
      ],
      "metadata": {
        "id": "i2kgkj5VWhgx"
      }
    },
    {
      "cell_type": "code",
      "source": [
        "import os\n",
        "import torch\n",
        "from torch.utils.data import Dataset\n",
        "import pandas as pd\n",
        "import torchaudio\n",
        "from torch.utils.data import DataLoader\n",
        "import torch.optim.lr_scheduler as lr_scheduler\n",
        "from torch.nn.functional import normalize\n",
        "\n",
        "\n",
        "class CustomDataset(Dataset):\n",
        "    def __init__(self, annotations_file, audio_dir, transformation, target_sample_rate, num_samples, device):\n",
        "        self.annotations = pd.read_csv(annotations_file)\n",
        "        self.audio_dir = audio_dir\n",
        "        self.device = device\n",
        "        self.transformation = transformation.to(self.device)\n",
        "        self.target_sample_rate = target_sample_rate\n",
        "        self.num_samples = num_samples\n",
        "\n",
        "    def __len__(self):\n",
        "        return len(self.annotations)\n",
        "\n",
        "    def __getitem__(self, index):\n",
        "        audio_sample_path = self._get_audio_sample_path(index)\n",
        "        #print(audio_sample_path)\n",
        "        label = self._get_audio_sample_label(index)\n",
        "        #print(label)\n",
        "        #signal, sr = torchaudio.load(audio_sample_path,frame_offset=int(self.num_samples*.3),num_frames = self.target_sample_rate)\n",
        "        signal, sr = torchaudio.load(audio_sample_path)\n",
        "        signal = signal.to(self.device)\n",
        "        signal = self._resample_if_necessary(signal, sr)\n",
        "        signal = self._mix_down_if_necessary(signal)\n",
        "        signal = self._cut_if_necessary(signal)\n",
        "        signal = self._right_pad_if_necessary(signal)\n",
        "        signal = self.transformation(signal)\n",
        "        # produce delta and delta-delta and add to mfcc\n",
        "        delta = torchaudio.functional.compute_deltas(signal)\n",
        "        delta2 = torchaudio.functional.compute_deltas(delta)\n",
        "        signal = torch.cat((signal, delta, delta2), 1) # concatenating deltas\n",
        "        \n",
        "        #signal = signal + delta + delta2\n",
        "        means = signal.mean(dim=1, keepdim=True)\n",
        "        stds = signal.std(dim=1, keepdim=True)\n",
        "        signal = (signal - means) / stds #NORMALIZED\n",
        "\n",
        "        return signal, label\n",
        "\n",
        "    def _cut_if_necessary(self, signal):\n",
        "        if signal.shape[1] > self.num_samples:\n",
        "            # print(signal.shape[1]) # print sample size\n",
        "            signal = signal[:, :self.num_samples]\n",
        "        return signal\n",
        "\n",
        "    def _right_pad_if_necessary(self, signal):\n",
        "        length_signal = signal.shape[1]\n",
        "        if length_signal < self.num_samples:\n",
        "            num_missing_samples = self.num_samples - length_signal\n",
        "            last_dim_padding = (0, num_missing_samples)\n",
        "            signal = torch.nn.functional.pad(signal, last_dim_padding)\n",
        "        return signal\n",
        "\n",
        "    def _resample_if_necessary(self, signal, sr):\n",
        "        if sr != self.target_sample_rate:\n",
        "            resampler = torchaudio.transforms.Resample(sr, self.target_sample_rate)\n",
        "            resampler = resampler.to(device)\n",
        "            signal = resampler(signal)\n",
        "        return signal\n",
        "\n",
        "    def _mix_down_if_necessary(self, signal):\n",
        "        if signal.shape[0] > 1:\n",
        "            signal = torch.mean(signal, dim=0, keepdim=True)\n",
        "        return signal\n",
        "\n",
        "    # for any audio index this function returns the audio path\n",
        "    def _get_audio_sample_path(self, index):\n",
        "        path = os.path.join(self.audio_dir, self.annotations.iloc[index,0])\n",
        "        return path\n",
        "    \n",
        "    # for specified audio index this will return the label from the data csv\n",
        "    def _get_audio_sample_label(self, index):\n",
        "        return self.annotations.iloc[index, 4]"
      ],
      "metadata": {
        "id": "UBSsEU43WdcD"
      },
      "execution_count": 3,
      "outputs": []
    },
    {
      "cell_type": "markdown",
      "source": [
        "Instantiate the dataset"
      ],
      "metadata": {
        "id": "LY45V_efdoLX"
      }
    },
    {
      "cell_type": "code",
      "source": [
        "TRAIN_CSV = '/content/SUBESCO/train/train.csv'\n",
        "TEST_CSV = '/content/SUBESCO/test/test.csv'\n",
        "VALID_CSV = '/content/SUBESCO/valid/valid.csv'\n",
        "\n",
        "TRAIN_PATH = '/content/SUBESCO/train/'\n",
        "TEST_PATH = '/content/SUBESCO/test/'\n",
        "VALID_PATH = '/content/SUBESCO/valid/'\n",
        "\n",
        "SAMPLE_RATE = 48000\n",
        "NUM_SAMPLES = SAMPLE_RATE*4\n",
        "\n",
        "device = ''\n",
        "if torch.cuda.is_available():\n",
        "    device = \"cuda\"\n",
        "else:\n",
        "    device = \"cpu\"\n",
        "print(f\"Using device {device}\")\n",
        "\n",
        "#mfcc = torchaudio.transforms.MelSpectrogram(sample_rate=SAMPLE_RATE, n_mels = 70,n_fft = 600)\n",
        "mfcc = torchaudio.transforms.MFCC(sample_rate=SAMPLE_RATE, n_mfcc=44, melkwargs={\"n_fft\": 1536, \"hop_length\": 512, \"power\": 2})\n",
        "train_dataset = CustomDataset(TRAIN_CSV,\n",
        "                        TRAIN_PATH,\n",
        "                        mfcc,\n",
        "                        SAMPLE_RATE,\n",
        "                        NUM_SAMPLES,\n",
        "                        device)\n",
        "print(f\"There are {len(train_dataset)} samples in the train.\")\n",
        "\n",
        "val_dataset = CustomDataset(VALID_CSV,\n",
        "                        VALID_PATH,\n",
        "                        mfcc,\n",
        "                        SAMPLE_RATE,\n",
        "                        NUM_SAMPLES,\n",
        "                        device)\n",
        "\n",
        "print(f\"There are {len(val_dataset)} samples in the valid.\")\n",
        "\n",
        "test_dataset = CustomDataset(TEST_CSV,\n",
        "                        TEST_PATH,\n",
        "                        mfcc,\n",
        "                        SAMPLE_RATE,\n",
        "                        NUM_SAMPLES,\n",
        "                        device)\n",
        "print(f\"There are {len(test_dataset)} samples in the test.\")\n",
        "signal, label = val_dataset[0]\n",
        "print(signal.shape)"
      ],
      "metadata": {
        "colab": {
          "base_uri": "https://localhost:8080/"
        },
        "id": "irCA4qM4dneT",
        "outputId": "632f1b91-cc20-43bd-949f-cfeb094686af"
      },
      "execution_count": 4,
      "outputs": [
        {
          "output_type": "stream",
          "name": "stdout",
          "text": [
            "Using device cuda\n",
            "There are 4900 samples in the train.\n",
            "There are 700 samples in the valid.\n",
            "There are 1400 samples in the test.\n",
            "torch.Size([1, 132, 376])\n"
          ]
        }
      ]
    },
    {
      "cell_type": "code",
      "source": [
        "\n",
        "df = pd.read_csv(TRAIN_CSV)\n",
        "print(df['label_id'].value_counts())\n",
        "df = pd.read_csv(TEST_CSV)\n",
        "print(df['label_id'].value_counts())\n",
        "df = pd.read_csv(VALID_CSV)\n",
        "print(df['label_id'].value_counts())\n"
      ],
      "metadata": {
        "colab": {
          "base_uri": "https://localhost:8080/"
        },
        "id": "lBteY7ubjjQt",
        "outputId": "6166867a-3116-4c3a-9590-84722c12c7f1"
      },
      "execution_count": 5,
      "outputs": [
        {
          "output_type": "stream",
          "name": "stdout",
          "text": [
            "3    700\n",
            "6    700\n",
            "2    700\n",
            "5    700\n",
            "1    700\n",
            "4    700\n",
            "0    700\n",
            "Name: label_id, dtype: int64\n",
            "6    200\n",
            "5    200\n",
            "4    200\n",
            "3    200\n",
            "2    200\n",
            "1    200\n",
            "0    200\n",
            "Name: label_id, dtype: int64\n",
            "6    100\n",
            "5    100\n",
            "4    100\n",
            "3    100\n",
            "2    100\n",
            "1    100\n",
            "0    100\n",
            "Name: label_id, dtype: int64\n"
          ]
        }
      ]
    },
    {
      "cell_type": "markdown",
      "source": [
        "# Model Loading and Functions"
      ],
      "metadata": {
        "id": "V7ZEOkhKmF3E"
      }
    },
    {
      "cell_type": "code",
      "execution_count": 31,
      "metadata": {
        "id": "WDxxZBlnkUw6",
        "colab": {
          "base_uri": "https://localhost:8080/",
          "height": 67,
          "referenced_widgets": [
            "02dd9c57605449b8826204f41dad51b1",
            "0ac551a6b0d449a7b66ba922f87eb14e",
            "b1e869651933475aa91378b576ea97c8",
            "1b7151d72ecc4210b82dd5a68812ca75",
            "6c3ab52079654ff5bf888c077febfc6e",
            "0ae02a58d9424f7c8ef8d785f4c24f39",
            "e76e2646df6943819f0d7eec5851d478",
            "5e9ca4a1bedd4618b472e91439bc88a4",
            "e6860f3ccf3b45879b96b073e34d46ed",
            "92df56af564a43258c47414ae7f658df",
            "5de40235dfe949a0afa85b9911d5bebe"
          ]
        },
        "outputId": "421459e3-f6a1-4e68-afaa-b3c75aadaba3"
      },
      "outputs": [
        {
          "output_type": "stream",
          "name": "stderr",
          "text": [
            "Downloading: \"https://download.pytorch.org/models/resnet50-0676ba61.pth\" to /root/.cache/torch/hub/checkpoints/resnet50-0676ba61.pth\n"
          ]
        },
        {
          "output_type": "display_data",
          "data": {
            "application/vnd.jupyter.widget-view+json": {
              "model_id": "02dd9c57605449b8826204f41dad51b1",
              "version_minor": 0,
              "version_major": 2
            },
            "text/plain": [
              "  0%|          | 0.00/97.8M [00:00<?, ?B/s]"
            ]
          },
          "metadata": {}
        }
      ],
      "source": [
        "from torch import nn\n",
        "from torchsummary import summary\n",
        "\n",
        "from torchvision import models\n",
        "model = models.resnet50(pretrained=True)\n",
        "\n",
        "model = model.to(device)\n",
        "model.conv1=nn.Conv2d(1, model.conv1.out_channels, \n",
        "                      kernel_size=model.conv1.kernel_size[0], \n",
        "                      stride=model.conv1.stride[0], \n",
        "                      padding=model.conv1.padding[0])\n",
        "num_ftrs = model.fc.in_features\n",
        "model.fc = nn.Sequential(*[nn.Dropout(p=0.5), nn.Linear(num_ftrs, 7)])"
      ]
    },
    {
      "cell_type": "code",
      "source": [
        "#!gdown --id 18hQTkVXPjlmxhFmpD2U9Qa_uhvYUY3M_\n",
        "#model = torch.load('/content/Resnet_high_model.pth')\n",
        "model = model.to(device)\n",
        "#summary(model, signal.shape)"
      ],
      "metadata": {
        "id": "UN2A5cVgyL4-"
      },
      "execution_count": 32,
      "outputs": []
    },
    {
      "cell_type": "markdown",
      "source": [
        "# Model Parameter Setting"
      ],
      "metadata": {
        "id": "3TklzFYmttsi"
      }
    },
    {
      "cell_type": "code",
      "source": [
        "from torch import nn\n",
        "train_loss = []\n",
        "val_loss = []\n",
        "test_loss = []\n",
        "\n",
        "train_acc = []\n",
        "val_acc = []\n",
        "test_acc = []\n",
        "\n",
        "BATCH_SIZE = 32\n",
        "criterion = nn.CrossEntropyLoss()\n",
        "optimizer = torch.optim.Adam(model.parameters(), lr=10**-4, weight_decay = 10**-6)\n",
        "\n",
        "#optimizer = torch.optim.SGD(model.parameters(), lr=0.1, momentum=0.9)\n",
        "#step_lr_scheduler = lr_scheduler.ReduceLROnPlateau(optimizer, mode='max',factor=0.1,patience=2, verbos=True)\n",
        "#step_lr_scheduler = lr_scheduler.StepLR(optimizer, step_size=3, gamma=0.1)\n",
        "\n",
        "def create_data_loader(train_data, batch_size):\n",
        "    train_dataloader = DataLoader(train_data, batch_size=batch_size)\n",
        "    return train_dataloader\n",
        "\n",
        "train_dataloader = create_data_loader(train_dataset, BATCH_SIZE)\n",
        "test_dataloader = create_data_loader(test_dataset, BATCH_SIZE)\n",
        "val_dataloader = create_data_loader(val_dataset, BATCH_SIZE)"
      ],
      "metadata": {
        "id": "Vn4QrDSngyhX"
      },
      "execution_count": 33,
      "outputs": []
    },
    {
      "cell_type": "code",
      "source": [
        "def train_loop(dataloader, model, criterion, optimizer):\n",
        "    model.train()\n",
        "    running_loss = 0.0\n",
        "    running_corrects = 0\n",
        "    size = len(dataloader.dataset)  \n",
        "\n",
        "    for batch, (X,y) in enumerate(dataloader):\n",
        "        # Compute prediction and loss\n",
        "        inputs, labels = X.to(device), y.to(device)\n",
        "        \n",
        "        with torch.set_grad_enabled(True):\n",
        "            outputs = model(inputs)\n",
        "            _, preds = torch.max(outputs, 1)\n",
        "            loss = criterion(outputs, labels)\n",
        "\n",
        "            optimizer.zero_grad()\n",
        "            loss.backward()\n",
        "            optimizer.step()\n",
        "\n",
        "        running_loss += loss.item() * inputs.size(0)\n",
        "        running_corrects += torch.sum(preds == labels.data)\n",
        "\n",
        "        if batch % 80 == 0:\n",
        "            loss, current = loss.item(), batch * len(X)\n",
        "            print(f\"loss: {loss:>7f}  [{current:>5d}/{size:>5d}]\")\n",
        "\n",
        "    epoch_loss = running_loss / size\n",
        "    epoch_acc = running_corrects.double() / size\n",
        "\n",
        "    print('Train      Loss: {:.4f} Acc: {:.4f}'.format(\n",
        "                 epoch_loss, epoch_acc))\n",
        "    \n",
        "    return epoch_loss, epoch_acc"
      ],
      "metadata": {
        "id": "Jhk6pTKCSEQY"
      },
      "execution_count": 34,
      "outputs": []
    },
    {
      "cell_type": "code",
      "source": [
        "def test_loop(dataloader, model, criterion):\n",
        "    #model.eval()\n",
        "    running_loss = 0.0\n",
        "    running_corrects = 0\n",
        "    size = len(dataloader.dataset)  \n",
        "\n",
        "    for batch, (X,y) in enumerate(dataloader):\n",
        "        # Compute prediction and loss\n",
        "        inputs, labels = X.to(device), y.to(device)\n",
        "        \n",
        "        with torch.set_grad_enabled(False):\n",
        "            outputs = model(inputs)\n",
        "            _, preds = torch.max(outputs, 1)\n",
        "            loss = criterion(outputs, labels)\n",
        "\n",
        "        running_loss += loss.item() * inputs.size(0)\n",
        "        running_corrects += torch.sum(preds == labels.data)\n",
        "\n",
        "    epoch_loss = running_loss / size\n",
        "    epoch_acc = running_corrects.double() / size\n",
        "\n",
        "    print('Validation Loss: {:.4f} Acc: {:.4f}'.format(\n",
        "                 epoch_loss, epoch_acc))\n",
        "    \n",
        "    return epoch_loss,epoch_acc\n",
        "    "
      ],
      "metadata": {
        "id": "RngTm7rGSm6v"
      },
      "execution_count": 35,
      "outputs": []
    },
    {
      "cell_type": "markdown",
      "source": [
        "# Model Running"
      ],
      "metadata": {
        "id": "h3_nrlbJUS5i"
      }
    },
    {
      "cell_type": "code",
      "source": [
        "import math\n",
        "import time\n",
        "import copy\n",
        "\n",
        "best_model_wts = copy.deepcopy(model.state_dict())\n",
        "best_acc = 0.0\n",
        "\n",
        "EPOCHS = 45\n",
        "start = time.time()\n",
        "for t in range(EPOCHS):\n",
        "    print(f\"\\nEpoch {t+1}\\n-------------------------------\")\n",
        "    ls , ac = train_loop(train_dataloader, model, criterion, optimizer)\n",
        "    train_loss.append(ls)\n",
        "    train_acc.append(ac)\n",
        "\n",
        "    ls,ac = test_loop(val_dataloader, model, criterion)\n",
        "    val_loss.append(ls)\n",
        "    val_acc.append(ac)\n",
        "\n",
        "    # #testing \n",
        "    # ls,ac = test_loop(test_dataloader, model, criterion)\n",
        "    # test_loss.append(ls)\n",
        "    # test_acc.append(ac)\n",
        "    # #testing \n",
        "\n",
        "    if ac > best_acc:\n",
        "        best_acc = ac\n",
        "        best_model_wts = copy.deepcopy(model.state_dict())\n",
        "\n",
        "    #step_lr_scheduler.step()\n",
        "    \n",
        "final = (time.time() - start)/60\n",
        "model.load_state_dict(best_model_wts)\n",
        "print(f\"Done for all {EPOCHS} epochs in {math.ceil(final)} minutes\\n\")\n",
        "print(f\"Best Validation accuracy: {best_acc} \\n\")"
      ],
      "metadata": {
        "id": "rBPMtivT4pmH",
        "outputId": "05637313-b28d-4f98-b04c-2714ef84d199",
        "colab": {
          "base_uri": "https://localhost:8080/"
        }
      },
      "execution_count": 36,
      "outputs": [
        {
          "output_type": "stream",
          "name": "stdout",
          "text": [
            "\n",
            "Epoch 1\n",
            "-------------------------------\n",
            "loss: 2.067250  [    0/ 4900]\n",
            "loss: 1.732762  [ 2560/ 4900]\n",
            "Train      Loss: 1.1474 Acc: 0.5902\n",
            "Validation Loss: 3.2727 Acc: 0.2771\n",
            "\n",
            "Epoch 2\n",
            "-------------------------------\n",
            "loss: 1.725459  [    0/ 4900]\n",
            "loss: 1.228129  [ 2560/ 4900]\n",
            "Train      Loss: 0.8108 Acc: 0.7092\n",
            "Validation Loss: 2.6419 Acc: 0.3686\n",
            "\n",
            "Epoch 3\n",
            "-------------------------------\n",
            "loss: 0.708741  [    0/ 4900]\n",
            "loss: 0.959767  [ 2560/ 4900]\n",
            "Train      Loss: 0.5074 Acc: 0.8186\n",
            "Validation Loss: 2.0466 Acc: 0.4571\n",
            "\n",
            "Epoch 4\n",
            "-------------------------------\n",
            "loss: 0.625828  [    0/ 4900]\n",
            "loss: 0.599913  [ 2560/ 4900]\n",
            "Train      Loss: 0.2949 Acc: 0.9049\n",
            "Validation Loss: 2.8583 Acc: 0.4271\n",
            "\n",
            "Epoch 5\n",
            "-------------------------------\n",
            "loss: 0.515678  [    0/ 4900]\n",
            "loss: 0.318372  [ 2560/ 4900]\n",
            "Train      Loss: 0.1549 Acc: 0.9520\n",
            "Validation Loss: 2.7943 Acc: 0.4100\n",
            "\n",
            "Epoch 6\n",
            "-------------------------------\n",
            "loss: 0.172927  [    0/ 4900]\n",
            "loss: 0.044649  [ 2560/ 4900]\n",
            "Train      Loss: 0.1334 Acc: 0.9553\n",
            "Validation Loss: 2.8751 Acc: 0.4714\n",
            "\n",
            "Epoch 7\n",
            "-------------------------------\n",
            "loss: 0.127518  [    0/ 4900]\n",
            "loss: 0.338690  [ 2560/ 4900]\n",
            "Train      Loss: 0.1257 Acc: 0.9547\n",
            "Validation Loss: 3.5260 Acc: 0.4029\n",
            "\n",
            "Epoch 8\n",
            "-------------------------------\n",
            "loss: 0.252134  [    0/ 4900]\n",
            "loss: 0.267304  [ 2560/ 4900]\n",
            "Train      Loss: 0.0961 Acc: 0.9718\n",
            "Validation Loss: 2.8951 Acc: 0.5014\n",
            "\n",
            "Epoch 9\n",
            "-------------------------------\n",
            "loss: 0.048978  [    0/ 4900]\n",
            "loss: 0.216030  [ 2560/ 4900]\n",
            "Train      Loss: 0.0737 Acc: 0.9788\n",
            "Validation Loss: 2.1738 Acc: 0.5643\n",
            "\n",
            "Epoch 10\n",
            "-------------------------------\n",
            "loss: 0.243980  [    0/ 4900]\n",
            "loss: 0.162529  [ 2560/ 4900]\n",
            "Train      Loss: 0.0431 Acc: 0.9884\n",
            "Validation Loss: 3.3589 Acc: 0.4800\n",
            "\n",
            "Epoch 11\n",
            "-------------------------------\n",
            "loss: 0.080391  [    0/ 4900]\n",
            "loss: 0.133555  [ 2560/ 4900]\n",
            "Train      Loss: 0.0446 Acc: 0.9884\n",
            "Validation Loss: 3.1350 Acc: 0.4800\n",
            "\n",
            "Epoch 12\n",
            "-------------------------------\n",
            "loss: 0.036534  [    0/ 4900]\n",
            "loss: 0.016546  [ 2560/ 4900]\n",
            "Train      Loss: 0.0290 Acc: 0.9924\n",
            "Validation Loss: 3.4521 Acc: 0.4914\n",
            "\n",
            "Epoch 13\n",
            "-------------------------------\n",
            "loss: 0.007818  [    0/ 4900]\n",
            "loss: 0.028839  [ 2560/ 4900]\n",
            "Train      Loss: 0.0162 Acc: 0.9969\n",
            "Validation Loss: 2.6667 Acc: 0.5700\n",
            "\n",
            "Epoch 14\n",
            "-------------------------------\n",
            "loss: 0.001561  [    0/ 4900]\n",
            "loss: 0.008636  [ 2560/ 4900]\n",
            "Train      Loss: 0.0094 Acc: 0.9986\n",
            "Validation Loss: 2.6472 Acc: 0.5371\n",
            "\n",
            "Epoch 15\n",
            "-------------------------------\n",
            "loss: 0.001267  [    0/ 4900]\n",
            "loss: 0.006925  [ 2560/ 4900]\n",
            "Train      Loss: 0.0028 Acc: 0.9996\n",
            "Validation Loss: 2.3540 Acc: 0.5743\n",
            "\n",
            "Epoch 16\n",
            "-------------------------------\n",
            "loss: 0.000485  [    0/ 4900]\n",
            "loss: 0.000952  [ 2560/ 4900]\n",
            "Train      Loss: 0.0010 Acc: 1.0000\n",
            "Validation Loss: 2.3821 Acc: 0.5729\n",
            "\n",
            "Epoch 17\n",
            "-------------------------------\n",
            "loss: 0.000667  [    0/ 4900]\n",
            "loss: 0.001263  [ 2560/ 4900]\n",
            "Train      Loss: 0.0008 Acc: 1.0000\n",
            "Validation Loss: 2.3941 Acc: 0.5714\n",
            "\n",
            "Epoch 18\n",
            "-------------------------------\n",
            "loss: 0.000512  [    0/ 4900]\n",
            "loss: 0.000829  [ 2560/ 4900]\n",
            "Train      Loss: 0.0006 Acc: 1.0000\n",
            "Validation Loss: 2.3956 Acc: 0.5757\n",
            "\n",
            "Epoch 19\n",
            "-------------------------------\n",
            "loss: 0.000455  [    0/ 4900]\n",
            "loss: 0.000796  [ 2560/ 4900]\n",
            "Train      Loss: 0.0005 Acc: 1.0000\n",
            "Validation Loss: 2.4253 Acc: 0.5743\n",
            "\n",
            "Epoch 20\n",
            "-------------------------------\n",
            "loss: 0.000292  [    0/ 4900]\n",
            "loss: 0.000713  [ 2560/ 4900]\n",
            "Train      Loss: 0.0005 Acc: 1.0000\n",
            "Validation Loss: 2.4306 Acc: 0.5814\n",
            "\n",
            "Epoch 21\n",
            "-------------------------------\n",
            "loss: 0.000251  [    0/ 4900]\n",
            "loss: 0.000688  [ 2560/ 4900]\n",
            "Train      Loss: 0.0004 Acc: 1.0000\n",
            "Validation Loss: 2.4796 Acc: 0.5771\n",
            "\n",
            "Epoch 22\n",
            "-------------------------------\n",
            "loss: 0.000223  [    0/ 4900]\n",
            "loss: 0.000457  [ 2560/ 4900]\n",
            "Train      Loss: 0.0004 Acc: 1.0000\n",
            "Validation Loss: 2.4903 Acc: 0.5771\n",
            "\n",
            "Epoch 23\n",
            "-------------------------------\n",
            "loss: 0.000226  [    0/ 4900]\n",
            "loss: 0.000399  [ 2560/ 4900]\n",
            "Train      Loss: 0.0003 Acc: 1.0000\n",
            "Validation Loss: 2.5076 Acc: 0.5786\n",
            "\n",
            "Epoch 24\n",
            "-------------------------------\n",
            "loss: 0.000252  [    0/ 4900]\n",
            "loss: 0.000351  [ 2560/ 4900]\n",
            "Train      Loss: 0.0003 Acc: 1.0000\n",
            "Validation Loss: 2.5214 Acc: 0.5829\n",
            "\n",
            "Epoch 25\n",
            "-------------------------------\n",
            "loss: 0.000213  [    0/ 4900]\n",
            "loss: 0.000425  [ 2560/ 4900]\n",
            "Train      Loss: 0.0003 Acc: 1.0000\n",
            "Validation Loss: 2.5503 Acc: 0.5829\n",
            "\n",
            "Epoch 26\n",
            "-------------------------------\n",
            "loss: 0.000155  [    0/ 4900]\n",
            "loss: 0.000286  [ 2560/ 4900]\n",
            "Train      Loss: 0.0002 Acc: 1.0000\n",
            "Validation Loss: 2.5590 Acc: 0.5786\n",
            "\n",
            "Epoch 27\n",
            "-------------------------------\n",
            "loss: 0.000149  [    0/ 4900]\n",
            "loss: 0.000265  [ 2560/ 4900]\n",
            "Train      Loss: 0.0002 Acc: 1.0000\n",
            "Validation Loss: 2.5711 Acc: 0.5814\n",
            "\n",
            "Epoch 28\n",
            "-------------------------------\n",
            "loss: 0.000127  [    0/ 4900]\n",
            "loss: 0.000333  [ 2560/ 4900]\n",
            "Train      Loss: 0.0002 Acc: 1.0000\n",
            "Validation Loss: 2.5832 Acc: 0.5786\n",
            "\n",
            "Epoch 29\n",
            "-------------------------------\n",
            "loss: 0.000109  [    0/ 4900]\n",
            "loss: 0.000323  [ 2560/ 4900]\n",
            "Train      Loss: 0.0002 Acc: 1.0000\n",
            "Validation Loss: 2.6052 Acc: 0.5800\n",
            "\n",
            "Epoch 30\n",
            "-------------------------------\n",
            "loss: 0.000105  [    0/ 4900]\n",
            "loss: 0.000158  [ 2560/ 4900]\n",
            "Train      Loss: 0.0002 Acc: 1.0000\n",
            "Validation Loss: 2.6237 Acc: 0.5771\n",
            "\n",
            "Epoch 31\n",
            "-------------------------------\n",
            "loss: 0.000076  [    0/ 4900]\n",
            "loss: 0.000140  [ 2560/ 4900]\n",
            "Train      Loss: 0.0001 Acc: 1.0000\n",
            "Validation Loss: 2.6303 Acc: 0.5814\n",
            "\n",
            "Epoch 32\n",
            "-------------------------------\n",
            "loss: 0.000090  [    0/ 4900]\n",
            "loss: 0.000163  [ 2560/ 4900]\n",
            "Train      Loss: 0.0001 Acc: 1.0000\n",
            "Validation Loss: 2.6539 Acc: 0.5814\n",
            "\n",
            "Epoch 33\n",
            "-------------------------------\n",
            "loss: 0.000079  [    0/ 4900]\n",
            "loss: 0.000182  [ 2560/ 4900]\n",
            "Train      Loss: 0.0001 Acc: 1.0000\n",
            "Validation Loss: 2.6660 Acc: 0.5814\n",
            "\n",
            "Epoch 34\n",
            "-------------------------------\n",
            "loss: 0.000083  [    0/ 4900]\n",
            "loss: 0.000114  [ 2560/ 4900]\n",
            "Train      Loss: 0.0001 Acc: 1.0000\n",
            "Validation Loss: 2.6774 Acc: 0.5829\n",
            "\n",
            "Epoch 35\n",
            "-------------------------------\n",
            "loss: 0.000063  [    0/ 4900]\n",
            "loss: 0.000119  [ 2560/ 4900]\n",
            "Train      Loss: 0.0001 Acc: 1.0000\n",
            "Validation Loss: 2.6938 Acc: 0.5829\n",
            "\n",
            "Epoch 36\n",
            "-------------------------------\n",
            "loss: 0.000055  [    0/ 4900]\n",
            "loss: 0.000088  [ 2560/ 4900]\n",
            "Train      Loss: 0.0001 Acc: 1.0000\n",
            "Validation Loss: 2.7073 Acc: 0.5814\n",
            "\n",
            "Epoch 37\n",
            "-------------------------------\n",
            "loss: 0.000044  [    0/ 4900]\n",
            "loss: 0.000134  [ 2560/ 4900]\n",
            "Train      Loss: 0.0001 Acc: 1.0000\n",
            "Validation Loss: 2.7285 Acc: 0.5800\n",
            "\n",
            "Epoch 38\n",
            "-------------------------------\n",
            "loss: 0.000056  [    0/ 4900]\n",
            "loss: 0.000107  [ 2560/ 4900]\n",
            "Train      Loss: 0.0001 Acc: 1.0000\n",
            "Validation Loss: 2.7421 Acc: 0.5814\n",
            "\n",
            "Epoch 39\n",
            "-------------------------------\n",
            "loss: 0.000094  [    0/ 4900]\n",
            "loss: 0.000066  [ 2560/ 4900]\n",
            "Train      Loss: 0.0001 Acc: 1.0000\n",
            "Validation Loss: 2.7659 Acc: 0.5786\n",
            "\n",
            "Epoch 40\n",
            "-------------------------------\n",
            "loss: 0.000041  [    0/ 4900]\n",
            "loss: 0.000087  [ 2560/ 4900]\n",
            "Train      Loss: 0.0001 Acc: 1.0000\n",
            "Validation Loss: 2.7858 Acc: 0.5771\n",
            "\n",
            "Epoch 41\n",
            "-------------------------------\n",
            "loss: 0.000046  [    0/ 4900]\n",
            "loss: 0.000115  [ 2560/ 4900]\n",
            "Train      Loss: 0.0001 Acc: 1.0000\n",
            "Validation Loss: 2.8033 Acc: 0.5800\n",
            "\n",
            "Epoch 42\n",
            "-------------------------------\n",
            "loss: 0.000040  [    0/ 4900]\n",
            "loss: 0.000071  [ 2560/ 4900]\n",
            "Train      Loss: 0.0001 Acc: 1.0000\n",
            "Validation Loss: 2.8189 Acc: 0.5786\n",
            "\n",
            "Epoch 43\n",
            "-------------------------------\n",
            "loss: 0.000031  [    0/ 4900]\n",
            "loss: 0.000089  [ 2560/ 4900]\n",
            "Train      Loss: 0.0001 Acc: 1.0000\n",
            "Validation Loss: 2.8270 Acc: 0.5771\n",
            "\n",
            "Epoch 44\n",
            "-------------------------------\n",
            "loss: 0.000030  [    0/ 4900]\n",
            "loss: 0.000059  [ 2560/ 4900]\n",
            "Train      Loss: 0.0000 Acc: 1.0000\n",
            "Validation Loss: 2.8309 Acc: 0.5800\n",
            "\n",
            "Epoch 45\n",
            "-------------------------------\n",
            "loss: 0.000025  [    0/ 4900]\n",
            "loss: 0.000052  [ 2560/ 4900]\n",
            "Train      Loss: 0.0000 Acc: 1.0000\n",
            "Validation Loss: 2.8487 Acc: 0.5800\n",
            "Done for all 45 epochs in 84 minutes\n",
            "\n",
            "Best Validation accuracy: 0.5828571428571429 \n",
            "\n"
          ]
        }
      ]
    },
    {
      "cell_type": "markdown",
      "source": [
        "# Draw Graphs - Training and Validation"
      ],
      "metadata": {
        "id": "ZiTdXyXnUdGy"
      }
    },
    {
      "cell_type": "code",
      "source": [
        "from matplotlib import pyplot as plt\n",
        "plt.figure(figsize=[6.4, 4.8],facecolor='white', edgecolor='black',dpi=100)\n",
        "\n",
        "plt.title('Loss Curve')\n",
        "plt.plot(train_loss,label='Training Loss')\n",
        "plt.plot(val_loss,label='Validation Loss')\n",
        "#plt.plot(test_loss,label='Testing Loss')  #comment this for inference\n",
        "plt.xlabel('Epoch')\n",
        "plt.ylabel('Loss')\n",
        "plt.legend()\n",
        "plt.grid()"
      ],
      "metadata": {
        "colab": {
          "base_uri": "https://localhost:8080/",
          "height": 465
        },
        "id": "v4wfvYkfTZ9E",
        "outputId": "617cc48d-7061-4a0d-d286-197f3b356f57"
      },
      "execution_count": 37,
      "outputs": [
        {
          "output_type": "display_data",
          "data": {
            "image/png": "[encoded data removed]",
            "text/plain": [
              "<Figure size 640x480 with 1 Axes>"
            ]
          },
          "metadata": {}
        }
      ]
    },
    {
      "cell_type": "code",
      "source": [
        "plt.figure(figsize=[6.4, 4.8],facecolor='white', edgecolor='black',dpi=100)\n",
        "plt.title('Accuracy Curve')\n",
        "plt.plot(train_acc,label='Training Accuracy')\n",
        "plt.plot(val_acc,label='Validation Accuracy')\n",
        "#plt.plot(test_acc,label='Testing Accuracy')  #comment this for inference\n",
        "plt.xlabel('Epoch')\n",
        "plt.ylabel('Accuracy')\n",
        "plt.legend()\n",
        "plt.grid()"
      ],
      "metadata": {
        "colab": {
          "base_uri": "https://localhost:8080/",
          "height": 465
        },
        "id": "jLHvmjjeT03M",
        "outputId": "89984219-b2f6-4055-e5ab-24905b0efab6"
      },
      "execution_count": 38,
      "outputs": [
        {
          "output_type": "display_data",
          "data": {
            "image/png": "[encoded data removed]",
            "text/plain": [
              "<Figure size 640x480 with 1 Axes>"
            ]
          },
          "metadata": {}
        }
      ]
    },
    {
      "cell_type": "markdown",
      "source": [
        "# Testing The Model"
      ],
      "metadata": {
        "id": "UsUgOQmt1jKk"
      }
    },
    {
      "cell_type": "code",
      "source": [
        "test_loop(test_dataloader, model, criterion)"
      ],
      "metadata": {
        "colab": {
          "base_uri": "https://localhost:8080/"
        },
        "id": "1c8hjIdfZmLT",
        "outputId": "a8773830-d7ff-4cac-eb0c-a849bae7faec"
      },
      "execution_count": 39,
      "outputs": [
        {
          "output_type": "stream",
          "name": "stdout",
          "text": [
            "Validation Loss: 3.9992 Acc: 0.4714\n"
          ]
        },
        {
          "output_type": "execute_result",
          "data": {
            "text/plain": [
              "(3.999156184196472, tensor(0.4714, device='cuda:0', dtype=torch.float64))"
            ]
          },
          "metadata": {},
          "execution_count": 39
        }
      ]
    },
    {
      "cell_type": "code",
      "source": [
        "test_loop(val_dataloader, model, criterion)"
      ],
      "metadata": {
        "id": "nvUSGBKz5BKR",
        "outputId": "f274c83d-6f14-4721-abc1-104ba6d5dc78",
        "colab": {
          "base_uri": "https://localhost:8080/"
        }
      },
      "execution_count": 40,
      "outputs": [
        {
          "output_type": "stream",
          "name": "stdout",
          "text": [
            "Validation Loss: 2.5214 Acc: 0.5829\n"
          ]
        },
        {
          "output_type": "execute_result",
          "data": {
            "text/plain": [
              "(2.521414796965463, tensor(0.5829, device='cuda:0', dtype=torch.float64))"
            ]
          },
          "metadata": {},
          "execution_count": 40
        }
      ]
    },
    {
      "cell_type": "code",
      "source": [
        "torch.save(model, '/content/Subesco_resnet50_58_44.pth')"
      ],
      "metadata": {
        "id": "jMtikt3d1Vww"
      },
      "execution_count": 42,
      "outputs": []
    }
  ]
}